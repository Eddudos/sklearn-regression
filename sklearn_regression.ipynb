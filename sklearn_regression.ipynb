{
  "nbformat": 4,
  "nbformat_minor": 0,
  "metadata": {
    "colab": {
      "name": "sklearn-regression.ipynb",
      "provenance": [],
      "authorship_tag": "ABX9TyPCBya2PPnjUhxmzABR3/JM",
      "include_colab_link": true
    },
    "kernelspec": {
      "name": "python3",
      "display_name": "Python 3"
    },
    "language_info": {
      "name": "python"
    }
  },
  "cells": [
    {
      "cell_type": "markdown",
      "metadata": {
        "id": "view-in-github",
        "colab_type": "text"
      },
      "source": [
        "<a href=\"https://colab.research.google.com/github/Eddudos/sklearn-regression/blob/main/sklearn_regression.ipynb\" target=\"_parent\"><img src=\"https://colab.research.google.com/assets/colab-badge.svg\" alt=\"Open In Colab\"/></a>"
      ]
    },
    {
      "cell_type": "markdown",
      "metadata": {
        "id": "EbdaFww-J3Zz"
      },
      "source": [
        "# Carat prediction"
      ]
    },
    {
      "cell_type": "code",
      "metadata": {
        "id": "al5Lir6UJfQ6"
      },
      "source": [
        "import numpy as np\n",
        "import pandas as pd\n",
        "from sklearn.linear_model import LinearRegression\n",
        "from sklearn.metrics import f1_score, accuracy_score\n",
        "from sklearn.model_selection import train_test_split\n",
        "from pathlib import Path"
      ],
      "execution_count": 5,
      "outputs": []
    },
    {
      "cell_type": "code",
      "metadata": {
        "colab": {
          "base_uri": "https://localhost:8080/"
        },
        "id": "KlFYvsdAKxkz",
        "outputId": "60f52fe9-686a-4622-94a0-017a66d15413"
      },
      "source": [
        "!git clone https://github.com/Eddudos/sklearn-regression"
      ],
      "execution_count": 2,
      "outputs": [
        {
          "output_type": "stream",
          "name": "stdout",
          "text": [
            "Cloning into 'sklearn-regression'...\n",
            "remote: Enumerating objects: 10, done.\u001b[K\n",
            "remote: Counting objects: 100% (10/10), done.\u001b[K\n",
            "remote: Compressing objects: 100% (9/9), done.\u001b[K\n",
            "remote: Total 10 (delta 1), reused 0 (delta 0), pack-reused 0\u001b[K\n",
            "Unpacking objects: 100% (10/10), done.\n"
          ]
        }
      ]
    },
    {
      "cell_type": "code",
      "metadata": {
        "id": "v7tZqlg5K6tQ"
      },
      "source": [
        "ds_root = Path('sklearn-regression')\n",
        "df = pd.read_csv(ds_root / 'ds.csv')\n",
        "df = pd.DataFrame(df).drop(['clarity', 'depth', 'table', 'color', 'price', 'cut'], axis=1)\n",
        "\n",
        "Y = df.loc[:, 'carat']\n",
        "X = df.loc[:, [i for i in df.columns if i != 'carat']]\n",
        "\n",
        "X_train, X_test, Y_train, Y_test = train_test_split(X, Y, test_size=0.20, random_state=1)"
      ],
      "execution_count": 20,
      "outputs": []
    },
    {
      "cell_type": "code",
      "metadata": {
        "colab": {
          "base_uri": "https://localhost:8080/"
        },
        "id": "hb2C8zBlMj5H",
        "outputId": "08d10c02-3fb0-4df2-e990-fce2eca4637e"
      },
      "source": [
        "model = LinearRegression().fit(X, Y)\n",
        "\n",
        "y_pred = model.predict(X_test)\n",
        "y_pred\n",
        "Y_test\n",
        "# f1_score(Y_test, y_pred, average='weighted')\n",
        "model.score(X_test, Y_test)"
      ],
      "execution_count": 27,
      "outputs": [
        {
          "output_type": "execute_result",
          "data": {
            "text/plain": [
              "0.9555778555366942"
            ]
          },
          "metadata": {},
          "execution_count": 27
        }
      ]
    }
  ]
}